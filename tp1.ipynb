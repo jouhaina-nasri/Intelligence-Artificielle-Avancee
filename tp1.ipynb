{
  "nbformat": 4,
  "nbformat_minor": 0,
  "metadata": {
    "colab": {
      "provenance": [],
      "authorship_tag": "ABX9TyPjer7V5k2uQBlaXAyNyaXT",
      "include_colab_link": true
    },
    "kernelspec": {
      "name": "python3",
      "display_name": "Python 3"
    },
    "language_info": {
      "name": "python"
    }
  },
  "cells": [
    {
      "cell_type": "markdown",
      "metadata": {
        "id": "view-in-github",
        "colab_type": "text"
      },
      "source": [
        "<a href=\"https://colab.research.google.com/github/jouhaina-nasri/Intelligence-Artificielle-Avancee/blob/main/tp1.ipynb\" target=\"_parent\"><img src=\"https://colab.research.google.com/assets/colab-badge.svg\" alt=\"Open In Colab\"/></a>"
      ]
    },
    {
      "cell_type": "code",
      "execution_count": null,
      "metadata": {
        "id": "lUJwlDx30pWn"
      },
      "outputs": [],
      "source": [
        "# 1- Creation du DataFrame et importation des données\n",
        "import pandas\n",
        "D = pandas.read_table(\"market_basket.txt\",delimiter=\"\\t\",header=0)"
      ]
    },
    {
      "cell_type": "code",
      "source": [
        "# 2- Afficher les 10 premières lignes\n",
        "print(D.head(10))"
      ],
      "metadata": {
        "id": "6HHWgiw9063S"
      },
      "execution_count": null,
      "outputs": []
    },
    {
      "cell_type": "code",
      "source": [
        "# 3- Afficher les dimensions\n",
        "print(D.shape)"
      ],
      "metadata": {
        "id": "8FOIIoUR08JE"
      },
      "execution_count": null,
      "outputs": []
    },
    {
      "cell_type": "code",
      "source": [
        "# 4- Écrire un script python pour un table binaire (True:1 si le produit présent dans le caddie, 0 sinon)\n",
        "import numpy as np\n",
        "\n",
        "ligne=D.ID.unique()\n",
        "colonne = D.Product.sort_values().unique()\n",
        "\n",
        "matrix=np.zeros((len(ligne),len(colonne)),dtype=int)\n",
        "\n",
        "k=0\n",
        "for i in ligne:\n",
        "  TC=D[D.ID==i]\n",
        "  z=0\n",
        "  for j in colonne:\n",
        "    if TC.Product.str.contains(j).any():\n",
        "      matrix[k][z]=1\n",
        "    z=z+1\n",
        "  k=k+1\n",
        "TC = pandas.DataFrame(matrix, index=ligne,columns=colonne)\n",
        "print(TC)\n"
      ],
      "metadata": {
        "id": "HHHeu5GK1B-T"
      },
      "execution_count": null,
      "outputs": []
    },
    {
      "cell_type": "markdown",
      "source": [
        "# Nouvelle section"
      ],
      "metadata": {
        "id": "UxX6xkYqPXRc"
      }
    },
    {
      "cell_type": "code",
      "source": [
        "# 5- Tester la bibliothèque pandas.crosstab\n",
        "TC1= pandas.crosstab(D.ID,D.Product)\n",
        "print(TC1)"
      ],
      "metadata": {
        "id": "f98n041L2wcN"
      },
      "execution_count": null,
      "outputs": []
    },
    {
      "cell_type": "code",
      "source": [
        "# 6- Afficher les 30 premières transactions et les 3 premiers produits\n",
        "print(TC1.iloc[:30,:3])"
      ],
      "metadata": {
        "id": "SXL6B-ar_AhR"
      },
      "execution_count": null,
      "outputs": []
    },
    {
      "cell_type": "code",
      "source": [
        "# 7- Écrire un script python de la fonction a_priori() min_supp=0.025 et un longueur maximum de 4 produits\n",
        "\n",
        "from mlxtend.frequent_patterns import apriori\n",
        "freq_itemsets = apriori(TC1,min_support=0.025,max_len=4,use_colnames=True)\n"
      ],
      "metadata": {
        "id": "svOVxStHKJ_N"
      },
      "execution_count": null,
      "outputs": []
    },
    {
      "cell_type": "code",
      "source": [
        "# 8- Afficher les 15 premiers itemsets\n",
        "print(freq_itemsets.head(15))"
      ],
      "metadata": {
        "id": "ouLpbTCuLNaX"
      },
      "execution_count": null,
      "outputs": []
    },
    {
      "cell_type": "code",
      "source": [
        "# 9- Ecrire une fonction is_inclus()\n",
        "def is_inclus(x,items):\n",
        "  return items.issubset(x)\n"
      ],
      "metadata": {
        "id": "deFq8W84M5ii"
      },
      "execution_count": null,
      "outputs": []
    },
    {
      "cell_type": "code",
      "source": [
        "# 10- Afficher les itemsets comprenant le produit ‘Aspirin’.\n",
        "import numpy\n",
        "id = numpy.where(freq_itemsets.itemsets.apply(is_inclus,items={'Aspirin'}))\n",
        "print(freq_itemsets.loc[id])"
      ],
      "metadata": {
        "id": "MuJLEDf_NXM6"
      },
      "execution_count": null,
      "outputs": []
    },
    {
      "cell_type": "code",
      "source": [
        "# 11- Afficher les itemsets contenant Aspirin et Eggs\n",
        "import numpy\n",
        "id = numpy.where(freq_itemsets.itemsets.apply(is_inclus,items={'Aspirin','Eggs'}))\n",
        "print(freq_itemsets.loc[id])"
      ],
      "metadata": {
        "id": "of_QCXNaOIMz"
      },
      "execution_count": null,
      "outputs": []
    },
    {
      "cell_type": "code",
      "source": [
        "# 12- Génération des règles à partir des itemsets fréquents avec un seuil minimal (min_threshold = 0.75)\n",
        "from mlxtend.frequent_patterns import association_rules\n",
        "regles = association_rules(freq_itemsets,metric=\"confidence\",min_threshold=0.75)"
      ],
      "metadata": {
        "id": "Lzl_eU9QOcN1"
      },
      "execution_count": null,
      "outputs": []
    },
    {
      "cell_type": "code",
      "source": [
        "# 13- Afficher les 5 premières règles\n",
        "print(regles.iloc[:5,:])"
      ],
      "metadata": {
        "id": "EqBUythwOrd-"
      },
      "execution_count": null,
      "outputs": []
    },
    {
      "cell_type": "code",
      "source": [
        "# 14- Affichage des règles avec un LIFT supérieur ou égal à 7\n",
        "print(regles[regles['lift'].ge(7.0)])"
      ],
      "metadata": {
        "id": "OddPpoylO_et"
      },
      "execution_count": null,
      "outputs": []
    },
    {
      "cell_type": "code",
      "source": [
        "# 15- filtrer les règles menant au conséquent {‘2pct_milk’}\n",
        "print(regles[regles['consequents'].eq({'2pct_Milk'})])"
      ],
      "metadata": {
        "id": "WK6cmcoHPWFv"
      },
      "execution_count": null,
      "outputs": []
    }
  ]
}